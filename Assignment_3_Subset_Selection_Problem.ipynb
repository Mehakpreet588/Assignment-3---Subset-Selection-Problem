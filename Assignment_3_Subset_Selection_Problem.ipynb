{
  "nbformat": 4,
  "nbformat_minor": 0,
  "metadata": {
    "colab": {
      "provenance": [],
      "include_colab_link": true
    },
    "kernelspec": {
      "display_name": "Python 3",
      "language": "python",
      "name": "python3"
    },
    "language_info": {
      "codemirror_mode": {
        "name": "ipython",
        "version": 3
      },
      "file_extension": ".py",
      "mimetype": "text/x-python",
      "name": "python",
      "nbconvert_exporter": "python",
      "pygments_lexer": "ipython3",
      "version": "3.8.5"
    }
  },
  "cells": [
    {
      "cell_type": "markdown",
      "metadata": {
        "id": "view-in-github",
        "colab_type": "text"
      },
      "source": [
        "<a href=\"https://colab.research.google.com/github/Mehakpreet588/Assignment-3---Subset-Selection-Problem/blob/main/Assignment_3_Subset_Selection_Problem.ipynb\" target=\"_parent\"><img src=\"https://colab.research.google.com/assets/colab-badge.svg\" alt=\"Open In Colab\"/></a>"
      ]
    },
    {
      "cell_type": "markdown",
      "metadata": {
        "id": "7nQSRI4Dim1Y"
      },
      "source": [
        "  ---\n",
        "# **Subset Selection Problem**\n",
        "---\n",
        "####**1. Problem Statement:**\n",
        "Find all the subsets from a set of numbers whose sum is zero.\n",
        "\n",
        "####**Constraint: Subset size must be 5**\n",
        "Set={-12, -3, -6, 7, 2, -2, 6, 3, 9, -7, -5, -8, 1, 11, -9, -4}\n",
        "\n",
        "---"
      ]
    },
    {
      "cell_type": "markdown",
      "metadata": {
        "id": "A30y-VtNim1h"
      },
      "source": [
        "### **1.1 Library inclusion**"
      ]
    },
    {
      "cell_type": "code",
      "metadata": {
        "id": "cF_mSA9Xim1j"
      },
      "source": [
        "import random as r"
      ],
      "execution_count": 1,
      "outputs": []
    },
    {
      "cell_type": "markdown",
      "metadata": {
        "id": "UjvBYy0Lim1m"
      },
      "source": [
        "### **1.2 Parameter Setting**"
      ]
    },
    {
      "cell_type": "code",
      "metadata": {
        "id": "NHB2KMhZim1o"
      },
      "source": [
        "Set         = set([-12, -3, -6, 7, 2, -2, 6, 3, 9, -7, -5, -8, 1, 11, -9, -4])\n",
        "SetSize     = 5\n",
        "ResultList  = set()    # Store Result List i.e. list of sets whose sum is zero\n",
        "Iterations  = 1000    # Number of Inerations"
      ],
      "execution_count": 2,
      "outputs": []
    },
    {
      "cell_type": "markdown",
      "metadata": {
        "id": "BTLd3s--im1c"
      },
      "source": [
        "### **1.3 Start Program**\n",
        "\n",
        "\n"
      ]
    },
    {
      "cell_type": "code",
      "metadata": {
        "id": "veBU-f21im1x",
        "colab": {
          "base_uri": "https://localhost:8080/"
        },
        "outputId": "0d637219-033e-4276-e310-29f8a16cc39f"
      },
      "source": [
        "# Loop till number of Iterations\n",
        "for i in range(Iterations):\n",
        "    # Select number of elements from Set\n",
        "    Chromosome = r.sample(Set,SetSize)\n",
        "\n",
        "    # Sum the number of elements in the Chromosome\n",
        "    if sum(Chromosome) == 0:\n",
        "        ResultList.add(tuple(Chromosome))"
      ],
      "execution_count": 3,
      "outputs": [
        {
          "output_type": "stream",
          "name": "stderr",
          "text": [
            "<ipython-input-3-ed7c48dd8d3e>:4: DeprecationWarning: Sampling from a set deprecated\n",
            "since Python 3.9 and will be removed in a subsequent version.\n",
            "  Chromosome = r.sample(Set,SetSize)\n"
          ]
        }
      ]
    },
    {
      "cell_type": "markdown",
      "metadata": {
        "id": "nRWYsJNVim1z"
      },
      "source": [
        "### **1.4 Print the sets and total count**\n"
      ]
    },
    {
      "cell_type": "code",
      "metadata": {
        "colab": {
          "base_uri": "https://localhost:8080/"
        },
        "id": "41abL1k-im10",
        "scrolled": true,
        "outputId": "e8a11971-3fb3-4c9e-e5e7-a1b5c962aec3"
      },
      "source": [
        "# Print all the sets whose sum is zero\n",
        "for r in ResultList:\n",
        "\tprint (r)\n",
        "\n",
        "# Print total sets\n",
        "print (\"\\nTotal Sets: \", len(ResultList), \"\\n\")"
      ],
      "execution_count": 5,
      "outputs": [
        {
          "output_type": "stream",
          "name": "stdout",
          "text": [
            "(-5, 2, 11, -2, -6)\n",
            "(9, -4, -2, -9, 6)\n",
            "(-9, -5, 7, -2, 9)\n",
            "(-5, 7, 9, -8, -3)\n",
            "(9, -12, -2, -6, 11)\n",
            "(6, 11, -5, -3, -9)\n",
            "(6, -4, 9, -6, -5)\n",
            "(9, 6, -5, -7, -3)\n",
            "(-8, 7, -9, 1, 9)\n",
            "(1, -5, 7, -12, 9)\n",
            "(3, -3, -5, 11, -6)\n",
            "(-3, 7, -6, 11, -9)\n",
            "(-4, -9, -2, 9, 6)\n",
            "(-6, -3, 6, 2, 1)\n",
            "(7, -12, -9, 11, 3)\n",
            "(-6, -2, 6, 9, -7)\n",
            "(-6, -4, 6, 1, 3)\n",
            "(6, -3, -8, -4, 9)\n",
            "(3, 11, -7, -8, 1)\n",
            "(3, 11, -12, 6, -8)\n",
            "(-6, -4, 11, 2, -3)\n",
            "(-4, 6, 3, 1, -6)\n",
            "(6, -9, -8, 2, 9)\n",
            "(3, 1, -9, -2, 7)\n",
            "(11, -3, -4, 3, -7)\n",
            "(-6, 2, 3, 6, -5)\n",
            "\n",
            "Total Sets:  26 \n",
            "\n"
          ]
        }
      ]
    },
    {
      "cell_type": "markdown",
      "metadata": {
        "id": "E3BNV7YLim12"
      },
      "source": [
        "---\n",
        "### **1.5 Complete Program**\n",
        "---"
      ]
    },
    {
      "cell_type": "code",
      "metadata": {
        "colab": {
          "base_uri": "https://localhost:8080/"
        },
        "id": "c6KthRB9im14",
        "outputId": "5221acc5-7af7-4c67-c69f-7aff73e0923c"
      },
      "source": [
        "#-------------------------------------------------------------\n",
        "# Step 1: Library inclusion\n",
        "#-------------------------------------------------------------\n",
        "import random as r\n",
        "\n",
        "\n",
        "#-------------------------------------------------------------\n",
        "# Step 2: Parameter Setting\n",
        "#-------------------------------------------------------------\n",
        "Set         = set([-12, -3, -6, 7, 2, -2, 6, 3, 9, -7, -5, -8, 1, 11, -9, -4])\n",
        "SetSize     = 5\n",
        "ResultList  = set()    # Store Result List i.e. list of sets whose sum is zero\n",
        "Iterations  = 1000   # Number of Inerations\n",
        "\n",
        "\n",
        "#-------------------------------------------------------------\n",
        "# Step3: Start Program\n",
        "#-------------------------------------------------------------\n",
        "\n",
        "# Loop till number of Iterations\n",
        "for i in range(Iterations):\n",
        "    # Select number of elements from Set\n",
        "    Chromosome = r.sample(Set,SetSize)\n",
        "\n",
        "    # Sum the number of elements in the Chromosome\n",
        "    if sum(Chromosome) == 0:\n",
        "        ResultList.add(tuple(Chromosome))\n",
        "\n",
        "# Print all the sets whose sum is zero\n",
        "for r in ResultList:\n",
        "\tprint (r)\n",
        "\n",
        "# Print total sets\n",
        "print (\"\\nTotal Sets: \", len(ResultList))\n"
      ],
      "execution_count": 6,
      "outputs": [
        {
          "output_type": "stream",
          "name": "stdout",
          "text": [
            "(-3, 11, -8, 9, -9)\n",
            "(-12, -4, 1, 6, 9)\n",
            "(-2, 1, -9, 3, 7)\n",
            "(-6, 2, 1, 11, -8)\n",
            "(-8, 9, -5, 1, 3)\n",
            "(-3, -2, 11, 2, -8)\n",
            "(11, -12, 9, -5, -3)\n",
            "(-6, 1, 3, -9, 11)\n",
            "(-5, 3, -3, 9, -4)\n",
            "(6, 3, -12, 1, 2)\n",
            "(-6, 7, -2, -5, 6)\n",
            "(11, -6, -9, -5, 9)\n",
            "(6, 2, -6, 7, -9)\n",
            "(9, -12, 7, 1, -5)\n",
            "(-4, 6, -8, -5, 11)\n",
            "(3, -4, 6, -2, -3)\n",
            "(3, 9, -9, -4, 1)\n",
            "(-5, 6, -4, -6, 9)\n",
            "(-5, -3, 6, -9, 11)\n",
            "(3, 2, 1, -12, 6)\n",
            "(-8, 9, -6, 3, 2)\n",
            "(6, -4, -12, 9, 1)\n",
            "(3, 1, -9, -2, 7)\n",
            "(-7, -4, 9, 11, -9)\n",
            "(7, -8, -7, 11, -3)\n",
            "(3, 2, -9, 11, -7)\n",
            "(11, -6, -9, -2, 6)\n",
            "\n",
            "Total Sets:  27\n"
          ]
        },
        {
          "output_type": "stream",
          "name": "stderr",
          "text": [
            "<ipython-input-6-e5b06b973959>:23: DeprecationWarning: Sampling from a set deprecated\n",
            "since Python 3.9 and will be removed in a subsequent version.\n",
            "  Chromosome = r.sample(Set,SetSize)\n"
          ]
        }
      ]
    },
    {
      "cell_type": "markdown",
      "metadata": {
        "id": "stxrIcZtk4LT"
      },
      "source": [
        "---\n",
        "### **1.6 Complete Program with sorting**\n",
        "---"
      ]
    },
    {
      "cell_type": "code",
      "metadata": {
        "colab": {
          "base_uri": "https://localhost:8080/"
        },
        "outputId": "150d31a7-70ee-4abb-f01c-333641dda044",
        "id": "zzblepy0k4LU"
      },
      "source": [
        "#-------------------------------------------------------------\n",
        "# Step 1: Library inclusion\n",
        "#-------------------------------------------------------------\n",
        "import random as r\n",
        "\n",
        "\n",
        "#-------------------------------------------------------------\n",
        "# Step 2: Parameter Setting\n",
        "#-------------------------------------------------------------\n",
        "Set         = set([-12, -3, -6, 7, 2, -2, 6, 3, 9, -7, -5, -8, 1, 11, -9, -4])\n",
        "SetSize     = 5\n",
        "ResultList  = set()    # Store Result List i.e. list of sets whose sum is zero\n",
        "Iterations  = 1000   # Number of Inerations\n",
        "\n",
        "\n",
        "#-------------------------------------------------------------\n",
        "# Step3: Start Program\n",
        "#-------------------------------------------------------------\n",
        "\n",
        "# Loop till number of Iterations\n",
        "for i in range(Iterations):\n",
        "    # Select number of elements from Set\n",
        "    Chromosome = r.sample(Set,SetSize)\n",
        "    Chromosome.sort()\n",
        "\n",
        "    # Sum the number of elements in the Chromosome\n",
        "    if sum(Chromosome) == 0:\n",
        "        ResultList.add(tuple(Chromosome))\n",
        "\n",
        "# Print all the sets whose sum is zero\n",
        "for r in ResultList:\n",
        "\tprint (r)\n",
        "\n",
        "# Print total sets\n",
        "print (\"\\nTotal Sets: \", len(ResultList))\n"
      ],
      "execution_count": 7,
      "outputs": [
        {
          "output_type": "stream",
          "name": "stdout",
          "text": [
            "(-7, -4, -2, 6, 7)\n",
            "(-12, -6, 1, 6, 11)\n",
            "(-8, -6, -4, 7, 11)\n",
            "(-5, -4, 1, 2, 6)\n",
            "(-9, -2, 1, 3, 7)\n",
            "(-7, -3, 1, 3, 6)\n",
            "(-6, -4, -3, 6, 7)\n",
            "(-9, -7, -4, 9, 11)\n",
            "(-6, -4, 1, 3, 6)\n",
            "(-12, 1, 2, 3, 6)\n",
            "(-4, -2, 1, 2, 3)\n",
            "(-8, -7, 1, 3, 11)\n",
            "(-7, -5, 2, 3, 7)\n",
            "(-6, -5, -3, 3, 11)\n",
            "(-8, -6, -3, 6, 11)\n",
            "(-12, -2, 2, 3, 9)\n",
            "(-8, -4, -2, 3, 11)\n",
            "(-9, -8, 1, 7, 9)\n",
            "(-6, -4, -2, 3, 9)\n",
            "(-6, -4, -3, 2, 11)\n",
            "(-12, -7, 3, 7, 9)\n",
            "(-7, -5, 1, 2, 9)\n",
            "(-6, -3, -2, 2, 9)\n",
            "(-8, -3, 2, 3, 6)\n",
            "(-9, -4, -2, 6, 9)\n",
            "(-12, -9, 3, 7, 11)\n",
            "(-12, -8, 2, 7, 11)\n",
            "(-12, -7, 1, 7, 11)\n",
            "(-12, -9, 1, 9, 11)\n",
            "(-8, -6, 2, 3, 9)\n",
            "\n",
            "Total Sets:  30\n"
          ]
        },
        {
          "output_type": "stream",
          "name": "stderr",
          "text": [
            "<ipython-input-7-74199e36c2e7>:23: DeprecationWarning: Sampling from a set deprecated\n",
            "since Python 3.9 and will be removed in a subsequent version.\n",
            "  Chromosome = r.sample(Set,SetSize)\n"
          ]
        }
      ]
    },
    {
      "cell_type": "markdown",
      "metadata": {
        "id": "Kaevs6ROim18"
      },
      "source": [
        "---\n",
        "####**2. Problem Statement:**\n",
        "Find all the subsets from a set of numbers whose sum is zero.\n",
        "\n",
        "####**Constraint: Subset size must be 3 to 6 only**\n",
        "Set={-12, -3, -6, 7, 2, -2, 6, 3, 9, -7, -5, -8, 1, 11, -9, -4}\n",
        "\n",
        "---"
      ]
    },
    {
      "cell_type": "code",
      "metadata": {
        "colab": {
          "base_uri": "https://localhost:8080/"
        },
        "id": "XmPJbrOXim19",
        "outputId": "0072ffbe-d7f0-470c-8447-5ae32f990a86"
      },
      "source": [
        "#-------------------------------------------------------------\n",
        "# Step 1: Library inclusion\n",
        "#-------------------------------------------------------------\n",
        "import random as r\n",
        "\n",
        "\n",
        "#-------------------------------------------------------------\n",
        "# Step 2: Parameter Setting\n",
        "#-------------------------------------------------------------\n",
        "Set         = set([-12, -3, -6, 7, 2, -2, 6, 3, 9, -7, -5, -8, 1, 11, -9, -4])\n",
        "SetLB       = 3\n",
        "SetUB       = 6\n",
        "ResultList  = set()    # Store Result List i.e. list of sets whose sum is zero\n",
        "Iterations  = 1000   # Number of Inerations\n",
        "\n",
        "\n",
        "#-------------------------------------------------------------\n",
        "# Step3: Start Program\n",
        "#-------------------------------------------------------------\n",
        "\n",
        "# Loop till number of Iterations\n",
        "for i in range(Iterations):\n",
        "    # Select set size randomly\n",
        "    SetSize = r.randint(SetLB,SetUB)\n",
        "\n",
        "    # Select number of elements from Set\n",
        "    Chromosome = r.sample(Set,SetSize)\n",
        "    Chromosome.sort()\n",
        "\n",
        "    # Sum the number of elements in the Chromosome\n",
        "    if sum(Chromosome) == 0:\n",
        "        ResultList.add(tuple(Chromosome))\n",
        "\n",
        "# Print all the sets whose sum is zero\n",
        "for r in ResultList:\n",
        "\tprint (r)\n",
        "\n",
        "# Print total sets\n",
        "print (\"\\nTotal Sets: \", len(ResultList))\n"
      ],
      "execution_count": 8,
      "outputs": [
        {
          "output_type": "stream",
          "name": "stdout",
          "text": [
            "(-8, -4, -3, -2, 6, 11)\n",
            "(-9, -8, 2, 6, 9)\n",
            "(-5, 2, 3)\n",
            "(-6, -2, 1, 7)\n",
            "(-12, 3, 9)\n",
            "(-5, -3, 2, 6)\n",
            "(-7, -3, 1, 9)\n",
            "(-8, -6, -2, 7, 9)\n",
            "(-12, -6, -4, 2, 9, 11)\n",
            "(-12, -4, 7, 9)\n",
            "(-8, 1, 7)\n",
            "(-7, -4, -3, 1, 6, 7)\n",
            "(-8, 2, 6)\n",
            "(-6, -5, -2, 2, 11)\n",
            "(-9, -2, 11)\n",
            "(-6, -3, 9)\n",
            "(-12, -3, -2, 1, 7, 9)\n",
            "(-4, -3, -2, 2, 7)\n",
            "(-8, -7, -6, 1, 9, 11)\n",
            "(-9, -7, 1, 6, 9)\n",
            "(-12, -8, -3, 3, 9, 11)\n",
            "(-7, -4, -2, 1, 3, 9)\n",
            "(-4, -3, 7)\n",
            "(-7, -2, 2, 7)\n",
            "(-3, 1, 2)\n",
            "\n",
            "Total Sets:  25\n"
          ]
        },
        {
          "output_type": "stream",
          "name": "stderr",
          "text": [
            "<ipython-input-8-c329ea93fb8b>:27: DeprecationWarning: Sampling from a set deprecated\n",
            "since Python 3.9 and will be removed in a subsequent version.\n",
            "  Chromosome = r.sample(Set,SetSize)\n"
          ]
        }
      ]
    }
  ]
}